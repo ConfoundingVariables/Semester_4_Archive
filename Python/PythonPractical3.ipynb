{
  "nbformat": 4,
  "nbformat_minor": 0,
  "metadata": {
    "colab": {
      "provenance": []
    },
    "kernelspec": {
      "name": "python3",
      "display_name": "Python 3"
    },
    "language_info": {
      "name": "python"
    }
  },
  "cells": [
    {
      "cell_type": "code",
      "source": [
        "def func(x):\n",
        "  if(x%3==0):\n",
        "    return True\n",
        "  else:\n",
        "    return False\n",
        "\n",
        "print(func(5))     "
      ],
      "metadata": {
        "colab": {
          "base_uri": "https://localhost:8080/"
        },
        "id": "tm6q4-j5I8yS",
        "outputId": "53a5fe14-08cb-4737-a282-fc1a5c61ceae"
      },
      "execution_count": 3,
      "outputs": [
        {
          "output_type": "stream",
          "name": "stdout",
          "text": [
            "False\n"
          ]
        }
      ]
    },
    {
      "cell_type": "code",
      "execution_count": 8,
      "metadata": {
        "id": "ah9aUlYgH2e8",
        "colab": {
          "base_uri": "https://localhost:8080/"
        },
        "outputId": "c579fd15-c8ce-4658-b67f-232036d8f523"
      },
      "outputs": [
        {
          "output_type": "stream",
          "name": "stdout",
          "text": [
            "4\n"
          ]
        }
      ],
      "source": [
        "def func(x):\n",
        "  count=0\n",
        "\n",
        "  for i in range(2,x):\n",
        "    if(x%i==0):\n",
        "      count+=1\n",
        "  return count\n",
        "\n",
        "print(func(12))"
      ]
    },
    {
      "cell_type": "code",
      "source": [
        "def func(x):\n",
        "  b=[]\n",
        "  while x>0:\n",
        "    b.append(0) if (x%2 == 0) else b.append(1)\n",
        "    x=x//2\n",
        "  return b[::-1]\n",
        "print(func(9))"
      ],
      "metadata": {
        "colab": {
          "base_uri": "https://localhost:8080/"
        },
        "id": "xxInNhljJzgq",
        "outputId": "3a36b296-4418-48a0-ecde-fbb1a601647e"
      },
      "execution_count": 18,
      "outputs": [
        {
          "output_type": "stream",
          "name": "stdout",
          "text": [
            "[1, 0, 0, 1]\n"
          ]
        }
      ]
    },
    {
      "cell_type": "code",
      "source": [
        "def Armstrong(x):\n",
        "  sum=0\n",
        "  x=str(x)\n",
        "\n",
        "  for i in range(0,len(x)):\n",
        "    sum+=int(x[i])**3\n",
        "\n",
        "  if(sum==int(x)):\n",
        "    return True\n",
        "  else:\n",
        "    return False   \n",
        "\n",
        "print(Armstrong(371))"
      ],
      "metadata": {
        "colab": {
          "base_uri": "https://localhost:8080/"
        },
        "id": "2QkSVmCHMNVL",
        "outputId": "fb452d00-7129-491a-bfda-bd66d217434a"
      },
      "execution_count": 24,
      "outputs": [
        {
          "output_type": "stream",
          "name": "stdout",
          "text": [
            "True\n"
          ]
        }
      ]
    },
    {
      "cell_type": "code",
      "source": [
        "def fact(x):\n",
        "    if x==1:\n",
        "        return 1\n",
        "    else:\n",
        "        return x*fact(x-1)\n",
        "print(fact(500))"
      ],
      "metadata": {
        "colab": {
          "base_uri": "https://localhost:8080/"
        },
        "id": "TTCVLCO_JX2F",
        "outputId": "bd96470e-d182-4d0f-88ed-6063fe2481b8"
      },
      "execution_count": 21,
      "outputs": [
        {
          "output_type": "stream",
          "name": "stdout",
          "text": [
            "1220136825991110068701238785423046926253574342803192842192413588385845373153881997605496447502203281863013616477148203584163378722078177200480785205159329285477907571939330603772960859086270429174547882424912726344305670173270769461062802310452644218878789465754777149863494367781037644274033827365397471386477878495438489595537537990423241061271326984327745715546309977202781014561081188373709531016356324432987029563896628911658974769572087926928871281780070265174507768410719624390394322536422605234945850129918571501248706961568141625359056693423813008856249246891564126775654481886506593847951775360894005745238940335798476363944905313062323749066445048824665075946735862074637925184200459369692981022263971952597190945217823331756934581508552332820762820023402626907898342451712006207714640979456116127629145951237229913340169552363850942885592018727433795173014586357570828355780158735432768888680120399882384702151467605445407663535984174430480128938313896881639487469658817504506926365338175055478128640000000000000000000000000000000000000000000000000000000000000000000000000000000000000000000000000000000000000000000000000000\n"
          ]
        }
      ]
    },
    {
      "cell_type": "code",
      "source": [],
      "metadata": {
        "id": "MkqsyX9_MvEl"
      },
      "execution_count": null,
      "outputs": []
    }
  ]
}