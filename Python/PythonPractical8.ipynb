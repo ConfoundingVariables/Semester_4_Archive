{
 "cells": [
  {
   "attachments": {},
   "cell_type": "markdown",
   "metadata": {},
   "source": [
    "A. Create a Class named Person, use the __init__() function to assign values for name, age and gender Create an object and print the values."
   ]
  },
  {
   "cell_type": "code",
   "execution_count": 1,
   "metadata": {},
   "outputs": [
    {
     "name": "stdout",
     "output_type": "stream",
     "text": [
      "Aditya 20 Male\n"
     ]
    }
   ],
   "source": [
    "\n",
    "class person:\n",
    "    def __init__(self,name,age,gender):\n",
    "        self.name=name\n",
    "        self.age=age\n",
    "        self.gender=gender\n",
    "        \n",
    "obj=person(\"Aditya\",20,\"Male\")\n",
    "print(obj.name,obj.age,obj.gender)        "
   ]
  },
  {
   "attachments": {},
   "cell_type": "markdown",
   "metadata": {},
   "source": [
    "B. Create a Child Class Student of the above Class Person which will inherit it's properties and methods. Use __init__ () function and add a few properties and methods such as fname and lname to Student Class. Check if the Child Class function overrides the function of Parent Class Person. If this happens then add a call to the parent's __init__() function OR use the super() function for the same task."
   ]
  },
  {
   "cell_type": "code",
   "execution_count": 6,
   "metadata": {},
   "outputs": [
    {
     "name": "stdout",
     "output_type": "stream",
     "text": [
      "Andre 21 Male Andre Freguson\n"
     ]
    }
   ],
   "source": [
    "class student(person):\n",
    "    def __init__(self, name, age, gender,fname,lname):\n",
    "        super().__init__(name, age, gender)\n",
    "        self.fname=fname\n",
    "        self.lname=lname\n",
    "\n",
    "obj2=student(\"Andre\",21,\"Male\",\"Andre\",\"Freguson\")\n",
    "print(obj2.name,obj2.age,obj2.gender,obj2.fname,obj2.lname)"
   ]
  },
  {
   "attachments": {},
   "cell_type": "markdown",
   "metadata": {},
   "source": [
    "C.Add a property graduationyear to the student class using self and pass a value 2023 to it. Add a method called welcome() to the student class, which prints ( \"Welcome\", fname, lname, \"to the class of\" , graduationyear )"
   ]
  },
  {
   "cell_type": "code",
   "execution_count": 7,
   "metadata": {},
   "outputs": [
    {
     "name": "stdout",
     "output_type": "stream",
     "text": [
      "Welcome Mathew Linkon to the class of 2023\n"
     ]
    }
   ],
   "source": [
    "class student(person):\n",
    "    def __init__(self, name, age, gender,fname,lname,gdy):\n",
    "        super().__init__(name, age, gender)\n",
    "        self.fname=fname\n",
    "        self.lname=lname\n",
    "        self.gdy=gdy\n",
    "    def welcome(self):\n",
    "        print(\"Welcome\",self.fname,self.lname,\"to the class of\",self.gdy) \n",
    "\n",
    "obj3=student(\"Mathew\",23,\"Sigma male\",\"Mathew\",\"Linkon\",2023)\n",
    "obj3.welcome()           \n"
   ]
  },
  {
   "attachments": {},
   "cell_type": "markdown",
   "metadata": {},
   "source": [
    "D. Import re, Use RegEx methods findall(), search() or match() to check and print if the fname ot lname has 'a' in it, also check if graduationyear has '0' in it.\n"
   ]
  },
  {
   "cell_type": "code",
   "execution_count": 11,
   "metadata": {},
   "outputs": [
    {
     "name": "stdout",
     "output_type": "stream",
     "text": [
      "Contains a in first name\n",
      "Doesnot contains a in last name\n",
      "Doesnot contains 0 in graduation year\n"
     ]
    }
   ],
   "source": [
    "from re import *\n",
    "\n",
    "class student(person):\n",
    "    def __init__(self, name, age, gender,fname,lname,gdy):\n",
    "        super().__init__(name, age, gender)\n",
    "        self.fname=fname\n",
    "        self.lname=lname\n",
    "        self.gdy=gdy\n",
    "    \n",
    "    def check(self):\n",
    "        if(findall('a',self.fname)):\n",
    "            print(\"Contains a in first name\")\n",
    "        else:\n",
    "            print(\"Doesnot contains a in first name\")   \n",
    "\n",
    "        if(search('a',self.lname)):\n",
    "            print(\"Contains a in last name\")\n",
    "        else:\n",
    "            print(\"Doesnot contains a in last name\")\n",
    "                \n",
    "        if(match(\"0\",str(self.gdy))):\n",
    "            print(\"Contains 0 in graduation year\") \n",
    "        else:\n",
    "            print(\"Doesnot contains 0 in graduation year\")           \n",
    "\n",
    "\n",
    "obj3=student(\"Mathew\",23,\"Sigma male\",\"Mathew\",\"Linkon\",2023)\n",
    "obj3.check()           \n"
   ]
  }
 ],
 "metadata": {
  "kernelspec": {
   "display_name": "Python 3",
   "language": "python",
   "name": "python3"
  },
  "language_info": {
   "codemirror_mode": {
    "name": "ipython",
    "version": 3
   },
   "file_extension": ".py",
   "mimetype": "text/x-python",
   "name": "python",
   "nbconvert_exporter": "python",
   "pygments_lexer": "ipython3",
   "version": "3.10.1"
  },
  "orig_nbformat": 4
 },
 "nbformat": 4,
 "nbformat_minor": 2
}
