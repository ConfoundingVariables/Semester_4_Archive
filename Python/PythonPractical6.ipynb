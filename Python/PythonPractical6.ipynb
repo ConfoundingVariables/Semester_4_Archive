{
  "nbformat": 4,
  "nbformat_minor": 0,
  "metadata": {
    "colab": {
      "provenance": [],
      "authorship_tag": "ABX9TyMV07vGxmzuegO99IKleozP",
      "include_colab_link": true
    },
    "kernelspec": {
      "name": "python3",
      "display_name": "Python 3"
    },
    "language_info": {
      "name": "python"
    }
  },
  "cells": [
    {
      "cell_type": "markdown",
      "metadata": {
        "id": "view-in-github",
        "colab_type": "text"
      },
      "source": [
        "<a href=\"https://colab.research.google.com/github/ConfoundingVariables/Semester_4_Archive/blob/main/Python/practical6.ipynb\" target=\"_parent\"><img src=\"https://colab.research.google.com/assets/colab-badge.svg\" alt=\"Open In Colab\"/></a>"
      ]
    },
    {
      "cell_type": "code",
      "execution_count": 2,
      "metadata": {
        "id": "hEY_xQMeHKt5"
      },
      "outputs": [],
      "source": [
        "empty=()\n",
        "it=(1,2,3,4,5,6,7,8,9,0)\n",
        "mdt=(1,2,3,4,\"bale\",\"bale bale\",True,False)\n",
        "nt=((1,2,3),(1,2,3),(1,2,3))"
      ]
    },
    {
      "cell_type": "code",
      "source": [
        "a=mdt.__len__()\n",
        "hindex=a//2\n",
        "while True:\n",
        "  print(mdt[hindex])\n",
        "  break"
      ],
      "metadata": {
        "colab": {
          "base_uri": "https://localhost:8080/"
        },
        "id": "zRdLpkSxIWDX",
        "outputId": "0d86e5de-95e5-43d4-9f9b-a8decf85925e"
      },
      "execution_count": 6,
      "outputs": [
        {
          "output_type": "stream",
          "name": "stdout",
          "text": [
            "bale\n"
          ]
        }
      ]
    },
    {
      "cell_type": "code",
      "source": [
        "jt=it+mdt\n",
        "print(jt)"
      ],
      "metadata": {
        "colab": {
          "base_uri": "https://localhost:8080/"
        },
        "id": "25mBJEB8JWnG",
        "outputId": "c8818dd8-1857-457c-f239-2b0e3c61866a"
      },
      "execution_count": 10,
      "outputs": [
        {
          "output_type": "stream",
          "name": "stdout",
          "text": [
            "(1, 2, 3, 4, 5, 6, 7, 8, 9, 0, 1, 2, 3, 4, 'bale', 'bale bale', True, False)\n"
          ]
        }
      ]
    },
    {
      "cell_type": "code",
      "source": [
        "print(\"first element: \"+str(jt[0]))\n",
        "print(\"last element: \"+str(jt[-1]))"
      ],
      "metadata": {
        "colab": {
          "base_uri": "https://localhost:8080/"
        },
        "id": "_vi-wVBdKWeE",
        "outputId": "341bf095-7b6d-45b8-aa20-cdaf5653a226"
      },
      "execution_count": 12,
      "outputs": [
        {
          "output_type": "stream",
          "name": "stdout",
          "text": [
            "first element: 1\n",
            "last element: False\n"
          ]
        }
      ]
    },
    {
      "cell_type": "code",
      "source": [
        "print(jt[1:-1])"
      ],
      "metadata": {
        "colab": {
          "base_uri": "https://localhost:8080/"
        },
        "id": "-uQe9co5K1C8",
        "outputId": "539d1840-51ca-43ef-9669-8be8046a2728"
      },
      "execution_count": 13,
      "outputs": [
        {
          "output_type": "stream",
          "name": "stdout",
          "text": [
            "(2, 3, 4, 5, 6, 7, 8, 9, 0, 1, 2, 3, 4, 'bale', 'bale bale', True)\n"
          ]
        }
      ]
    },
    {
      "cell_type": "code",
      "source": [
        "rizzionary = {'key1': 1, 'key2': 2, 'key3': 3, 'key4': 4, 'key5': 5}\n",
        "print(\"Printing all keys: \")\n",
        "for i in rizzionary.keys():\n",
        "  print(i)\n",
        "print(\"Printing all values: \")\n",
        "for i in rizzionary.values():\n",
        "  print(i)"
      ],
      "metadata": {
        "colab": {
          "base_uri": "https://localhost:8080/"
        },
        "id": "0bY3gsLuM3vb",
        "outputId": "cd91fa97-6155-4618-b471-1452b6c61aa5"
      },
      "execution_count": 20,
      "outputs": [
        {
          "output_type": "stream",
          "name": "stdout",
          "text": [
            "Printing all keys: \n",
            "key1\n",
            "key2\n",
            "key3\n",
            "key4\n",
            "key5\n",
            "Printing all values: \n",
            "1\n",
            "2\n",
            "3\n",
            "4\n",
            "5\n"
          ]
        }
      ]
    },
    {
      "cell_type": "code",
      "source": [
        "from random import randint\n",
        "from collections import defaultdict\n",
        "dict = {}\n",
        "for n in range(4):\n",
        "  dict[\"dict\"+str(n)]=[randint(0,10) for s in range(10)]\n",
        "print(dict)"
      ],
      "metadata": {
        "colab": {
          "base_uri": "https://localhost:8080/"
        },
        "id": "6BrXp-z6P3lp",
        "outputId": "3570e008-f01d-478d-f075-17221c914853"
      },
      "execution_count": 35,
      "outputs": [
        {
          "output_type": "stream",
          "name": "stdout",
          "text": [
            "{'dict0': [4, 3, 10, 9, 4, 8, 8, 0, 3, 6], 'dict1': [5, 6, 10, 10, 0, 6, 7, 9, 6, 8], 'dict2': [8, 6, 9, 10, 0, 10, 7, 0, 0, 6], 'dict3': [1, 0, 8, 2, 0, 5, 2, 4, 4, 5]}\n"
          ]
        }
      ]
    },
    {
      "cell_type": "code",
      "source": [
        "dict.popitem()"
      ],
      "metadata": {
        "colab": {
          "base_uri": "https://localhost:8080/"
        },
        "id": "axjC9UfIRY-3",
        "outputId": "da6c713a-7af7-40ee-d69f-ee922c6fb498"
      },
      "execution_count": 37,
      "outputs": [
        {
          "output_type": "execute_result",
          "data": {
            "text/plain": [
              "('dict3', [1, 0, 8, 2, 0, 5, 2, 4, 4, 5])"
            ]
          },
          "metadata": {},
          "execution_count": 37
        }
      ]
    },
    {
      "cell_type": "code",
      "source": [
        "dict"
      ],
      "metadata": {
        "colab": {
          "base_uri": "https://localhost:8080/"
        },
        "id": "NHLTN14HVfZ7",
        "outputId": "544389fa-825d-45ae-b500-3bf87025c4c8"
      },
      "execution_count": 39,
      "outputs": [
        {
          "output_type": "execute_result",
          "data": {
            "text/plain": [
              "{'dict0': [4, 3, 10, 9, 4, 8, 8, 0, 3, 6],\n",
              " 'dict1': [5, 6, 10, 10, 0, 6, 7, 9, 6, 8],\n",
              " 'dict2': [8, 6, 9, 10, 0, 10, 7, 0, 0, 6]}"
            ]
          },
          "metadata": {},
          "execution_count": 39
        }
      ]
    },
    {
      "cell_type": "code",
      "source": [
        "ditto=dict.copy()"
      ],
      "metadata": {
        "id": "3Kb5dJqUVvIv"
      },
      "execution_count": 41,
      "outputs": []
    },
    {
      "cell_type": "code",
      "source": [
        "ditto"
      ],
      "metadata": {
        "colab": {
          "base_uri": "https://localhost:8080/"
        },
        "id": "EWc-fwm6WCgv",
        "outputId": "b2155851-f7bd-4baa-e9e2-9e4377875c41"
      },
      "execution_count": 42,
      "outputs": [
        {
          "output_type": "execute_result",
          "data": {
            "text/plain": [
              "{'dict0': [4, 3, 10, 9, 4, 8, 8, 0, 3, 6],\n",
              " 'dict1': [5, 6, 10, 10, 0, 6, 7, 9, 6, 8],\n",
              " 'dict2': [8, 6, 9, 10, 0, 10, 7, 0, 0, 6]}"
            ]
          },
          "metadata": {},
          "execution_count": 42
        }
      ]
    },
    {
      "cell_type": "code",
      "source": [
        "Batch={}\n",
        "for n in range(5):\n",
        "  Batch[\"student\"+str(n)]=randint(0,6)\n",
        "\n",
        "print(Batch)\n",
        "\n",
        "default=[stu for stu in Batch if Batch[stu]>3]\n",
        "\n",
        "default"
      ],
      "metadata": {
        "colab": {
          "base_uri": "https://localhost:8080/"
        },
        "id": "34ueLINQWRI-",
        "outputId": "5a9886e7-18b5-4a0b-90e0-41f1a20575cb"
      },
      "execution_count": 57,
      "outputs": [
        {
          "output_type": "stream",
          "name": "stdout",
          "text": [
            "{'student0': 0, 'student1': 1, 'student2': 4, 'student3': 6, 'student4': 3}\n"
          ]
        },
        {
          "output_type": "execute_result",
          "data": {
            "text/plain": [
              "['student2', 'student3']"
            ]
          },
          "metadata": {},
          "execution_count": 57
        }
      ]
    }
  ]
}