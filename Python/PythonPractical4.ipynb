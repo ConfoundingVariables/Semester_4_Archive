{
  "nbformat": 4,
  "nbformat_minor": 0,
  "metadata": {
    "colab": {
      "provenance": [],
      "authorship_tag": "ABX9TyMziKtEEaloPF+ucF8iLgX8",
      "include_colab_link": true
    },
    "kernelspec": {
      "name": "python3",
      "display_name": "Python 3"
    },
    "language_info": {
      "name": "python"
    }
  },
  "cells": [
    {
      "cell_type": "markdown",
      "metadata": {
        "id": "view-in-github",
        "colab_type": "text"
      },
      "source": [
        "<a href=\"https://colab.research.google.com/github/ConfoundingVariables/Semester_4_Archive/blob/main/Python/PythonPractical4.ipynb\" target=\"_parent\"><img src=\"https://colab.research.google.com/assets/colab-badge.svg\" alt=\"Open In Colab\"/></a>"
      ]
    },
    {
      "cell_type": "code",
      "execution_count": 2,
      "metadata": {
        "colab": {
          "base_uri": "https://localhost:8080/"
        },
        "id": "Egjaj4mEfaAc",
        "outputId": "01a6d914-cae3-4574-b033-cdb1cf17bbb1"
      },
      "outputs": [
        {
          "output_type": "stream",
          "name": "stdout",
          "text": [
            "jainlove\n",
            "evolniaj"
          ]
        }
      ],
      "source": [
        "name=input()\n",
        "revname=name[::-1]\n",
        "for i in revname:\n",
        "  print(i,end=\"\")"
      ]
    },
    {
      "cell_type": "code",
      "source": [
        "word=input()\n",
        "words=word.split()\n",
        "print(len(words))"
      ],
      "metadata": {
        "colab": {
          "base_uri": "https://localhost:8080/"
        },
        "id": "UxkPfIEhhuUJ",
        "outputId": "e3f1c99a-358a-43f7-8887-34494331a434"
      },
      "execution_count": 8,
      "outputs": [
        {
          "output_type": "stream",
          "name": "stdout",
          "text": [
            "Trrr stibidi dop dop dop dop dop yes yes yes yes shtib shtibidi dip dibidi wwww yes yes yes yes\n",
            "20\n"
          ]
        }
      ]
    },
    {
      "cell_type": "code",
      "source": [
        "password=input()\n",
        "if len(password) < 8 and (0-9) and ('A-Z') not in password:\n",
        "  print(\"dosent meet requirements\")\n",
        "else:\n",
        "  print(\"dop dop dop yes yes yes\")"
      ],
      "metadata": {
        "colab": {
          "base_uri": "https://localhost:8080/"
        },
        "id": "uiC-XmmvjWit",
        "outputId": "d131be30-5593-4245-e487-fb0a85e907af"
      },
      "execution_count": 20,
      "outputs": [
        {
          "output_type": "stream",
          "name": "stdout",
          "text": [
            "Taklutaklu1\n",
            "dop dop dop yes yes yes\n"
          ]
        }
      ]
    },
    {
      "cell_type": "code",
      "source": [
        "def isPalindrome(s):\n",
        "\treturn s == s[::-1]\n",
        "s = \"malayalam\"\n",
        "ans = isPalindrome(s)\n",
        "if ans:\n",
        "\tprint(\"Yes\")\n",
        "else:\n",
        "\tprint(\"No\")\n"
      ],
      "metadata": {
        "colab": {
          "base_uri": "https://localhost:8080/"
        },
        "id": "J_R_SjS1pzvH",
        "outputId": "6f611107-3d83-4e5f-8a3c-1f6dffafb086"
      },
      "execution_count": 21,
      "outputs": [
        {
          "output_type": "stream",
          "name": "stdout",
          "text": [
            "Yes\n"
          ]
        }
      ]
    }
  ]
}