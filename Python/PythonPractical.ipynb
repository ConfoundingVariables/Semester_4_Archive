{
  "nbformat": 4,
  "nbformat_minor": 0,
  "metadata": {
    "colab": {
      "provenance": [],
      "authorship_tag": "ABX9TyPrVKWvEy7AYPzbUb6d1zn6",
      "include_colab_link": true
    },
    "kernelspec": {
      "name": "python3",
      "display_name": "Python 3"
    },
    "language_info": {
      "name": "python"
    }
  },
  "cells": [
    {
      "cell_type": "markdown",
      "metadata": {
        "id": "view-in-github",
        "colab_type": "text"
      },
      "source": [
        "<a href=\"https://colab.research.google.com/github/ConfoundingVariables/Semester_4_Archive/blob/main/Python/PythonPractical.ipynb\" target=\"_parent\"><img src=\"https://colab.research.google.com/assets/colab-badge.svg\" alt=\"Open In Colab\"/></a>"
      ]
    },
    {
      "cell_type": "code",
      "execution_count": 28,
      "metadata": {
        "id": "ueK45AScZxlP"
      },
      "outputs": [],
      "source": [
        "# Import statements\n",
        "from random import randint\n",
        "import math\n",
        "import matplotlib.pyplot as plt"
      ]
    },
    {
      "cell_type": "code",
      "source": [
        "# Declaring Variables\n",
        "num = randint(1, 100)\n",
        "\n",
        "# Logic\n",
        "print (num)\n",
        "if num % 2 == 0:\n",
        "  print (\"even\")\n",
        "else:\n",
        "  print(\"not even\")\n",
        "\n",
        "if num % 4 == 0:\n",
        "  print(\"num is a multiple of 4\")\n",
        "else:\n",
        "  print(\"num is not a multiple of 4\")\n",
        "\n",
        "if num > 50:\n",
        "  print(\"num is greater than 50\")\n",
        "else:\n",
        "  print(\"num is not greater than 50\")"
      ],
      "metadata": {
        "colab": {
          "base_uri": "https://localhost:8080/"
        },
        "id": "Bwo2fqDYZ2k8",
        "outputId": "83d88654-7d97-4223-f821-f51b991f5d1e"
      },
      "execution_count": 12,
      "outputs": [
        {
          "output_type": "stream",
          "name": "stdout",
          "text": [
            "7\n",
            "not even\n",
            "num is not a multiple of 4\n",
            "num is not greater than 50\n"
          ]
        }
      ]
    },
    {
      "cell_type": "code",
      "source": [
        "# Declaring Variables\n",
        "bruh = input()\n",
        "\n",
        "# Logic\n",
        "print (f\"The string is: {bruh}\")\n",
        "print(f\"The reverse of the string is {bruh[::-1]}\")\n",
        "print(\"String entered is palindrome\") if bruh[::-1] == bruh else print (\"String entered is a palindrome\")"
      ],
      "metadata": {
        "colab": {
          "base_uri": "https://localhost:8080/"
        },
        "id": "3sw9e32YcJUR",
        "outputId": "c172e68b-a666-41a1-e184-3d2327f89420"
      },
      "execution_count": 19,
      "outputs": [
        {
          "output_type": "stream",
          "name": "stdout",
          "text": [
            "racecar\n",
            "The string is: racecar\n",
            "The reverse of the string is racecar\n",
            "String entered is palindrome\n"
          ]
        }
      ]
    },
    {
      "cell_type": "code",
      "source": [
        "limit = randint(1, 50)\n",
        "result = 0\n",
        "\n",
        "for i in range(1, limit+1):\n",
        "    result += i**2\n",
        "\n",
        "print(\"Limit:\", limit)\n",
        "print(\"Result:\", result)"
      ],
      "metadata": {
        "colab": {
          "base_uri": "https://localhost:8080/"
        },
        "id": "DqOFL7Ixd6SF",
        "outputId": "f02cfcd5-efa6-4211-cb4d-c4cad6b721da"
      },
      "execution_count": 20,
      "outputs": [
        {
          "output_type": "stream",
          "name": "stdout",
          "text": [
            "Limit: 43\n",
            "Result: 27434\n"
          ]
        }
      ]
    },
    {
      "cell_type": "code",
      "source": [
        "# Declaring Variables\n",
        "a0=7.86\n",
        "a=16.67\n",
        "b=76.667\n",
        "L=99\n",
        "n=5\n",
        "x_list =[]\n",
        "y_list = list(range(0,51))\n",
        "\n",
        "# Logic\n",
        "for x in range (0,51):\n",
        "  A=0\n",
        "  p1=0\n",
        "  for i in range (n,31):\n",
        "    p1 += a * math.cos(math.cos(i*math.pi*x/L)) + b * math.sin(math.sin(i*math.pi*x/L))\n",
        "  A=a0 + p1\n",
        "  x_list.append(A)\n",
        "\n",
        "# Plotting Graph\n",
        "plt.plot(x_list,y_list)\n",
        "plt.show()"
      ],
      "metadata": {
        "colab": {
          "base_uri": "https://localhost:8080/",
          "height": 265
        },
        "id": "mVgBQg3PhFgc",
        "outputId": "8cfd5f48-8a68-4423-e81e-113b9ab48a72"
      },
      "execution_count": 35,
      "outputs": [
        {
          "output_type": "display_data",
          "data": {
            "text/plain": [
              "<Figure size 432x288 with 1 Axes>"
            ],
            "image/png": "[encoded data removed]"
          },
          "metadata": {
            "needs_background": "light"
          }
        }
      ]
    },
    {
      "cell_type": "code",
      "source": [
        "number = int(input(\"Enter a number: \"))\n",
        "\n",
        "for i in range(1, number+1):\n",
        "  print(\"The cube of\", i, \"is\", i**3)"
      ],
      "metadata": {
        "id": "xw3sY3seigb0"
      },
      "execution_count": null,
      "outputs": []
    },
    {
      "cell_type": "code",
      "source": [
        "#convert into python from java\n",
        "count=0\n",
        "for i in range (1, 11):\n",
        "  for j in range(1, 11):\n",
        "    print (j)\n",
        "    count += 1\n",
        "print (\"J executed: \"+str(count))"
      ],
      "metadata": {
        "id": "xY4H9wNBm2m_"
      },
      "execution_count": null,
      "outputs": []
    },
    {
      "cell_type": "code",
      "source": [
        "#convert into python from java\n",
        "count1=0\n",
        "for i in range(1,11):\n",
        "  for j in range(1,i):\n",
        "    print(j)\n",
        "    count += 1\n",
        "print (\"J executed: \" + str(count))"
      ],
      "metadata": {
        "id": "PcOP2oPuohhH"
      },
      "execution_count": null,
      "outputs": []
    },
    {
      "cell_type": "code",
      "source": [
        "#convert into python from java\n",
        "count2=0\n",
        "for i in range(1,6):\n",
        "  for j in range(10,i,-1):\n",
        "    print(j)\n",
        "    count2 += 1\n",
        "print(\"J executed: \"+str(count2))"
      ],
      "metadata": {
        "id": "g0CIs4ezrszl"
      },
      "execution_count": null,
      "outputs": []
    },
    {
      "cell_type": "code",
      "source": [
        "for i in range(1,7):\n",
        "  for j in range(1,i+1):\n",
        "    print(i,end=\" \")\n",
        "#Output: 1 2 2 3 3 3 4 4 4 4 5 5 5 5 5 6 6 6 6 6 6"
      ],
      "metadata": {
        "colab": {
          "base_uri": "https://localhost:8080/"
        },
        "id": "14p9OMnQr8i1",
        "outputId": "6cfeb77c-baf6-4bbe-fefc-029643f0b2e3"
      },
      "execution_count": 56,
      "outputs": [
        {
          "output_type": "stream",
          "name": "stdout",
          "text": [
            "1 2 2 3 3 3 4 4 4 4 5 5 5 5 5 6 6 6 6 6 6 "
          ]
        }
      ]
    },
    {
      "cell_type": "code",
      "source": [
        "for i in range(1, 7):\n",
        "    for j in range(i, i+7-i):\n",
        "        print(i, end=\" \")\n",
        "#Output: 1 1 1 1 1 1 2 2 2 2 2 3 3 3 3 4 4 4 5 5 6"
      ],
      "metadata": {
        "colab": {
          "base_uri": "https://localhost:8080/"
        },
        "id": "qV9qaUgStD2U",
        "outputId": "d361bcb3-a9c4-4494-a855-a05258c3c937"
      },
      "execution_count": 55,
      "outputs": [
        {
          "output_type": "stream",
          "name": "stdout",
          "text": [
            "1 1 1 1 1 1 2 2 2 2 2 3 3 3 3 4 4 4 5 5 6 "
          ]
        }
      ]
    },
    {
      "cell_type": "code",
      "source": [
        "for i in range(1, 7):\n",
        "    for j in range(1, i+1):\n",
        "        print(j, end=\" \")\n",
        "    '''if i < 7:\n",
        "      print(\"1 \", end=\"\")\n",
        "    else:\n",
        "      break'''\n",
        "#Output: 1 1 2 1 2 3 1 2 3 4 1 2 3 4 5 1 2 3 4 5 6"
      ],
      "metadata": {
        "id": "EKyExwhGukOE"
      },
      "execution_count": null,
      "outputs": []
    },
    {
      "cell_type": "code",
      "source": [],
      "metadata": {
        "id": "d8KHazBdvAAz"
      },
      "execution_count": null,
      "outputs": []
    }
  ]
}