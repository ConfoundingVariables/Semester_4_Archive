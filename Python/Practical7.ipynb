{
  "nbformat": 4,
  "nbformat_minor": 0,
  "metadata": {
    "colab": {
      "provenance": []
    },
    "kernelspec": {
      "name": "python3",
      "display_name": "Python 3"
    },
    "language_info": {
      "name": "python"
    }
  },
  "cells": [
    {
      "cell_type": "code",
      "execution_count": null,
      "metadata": {
        "id": "cZRKR4DMjgpF"
      },
      "outputs": [],
      "source": [
        "#creating file named py.txt\n",
        "a = open(\"py.txt\", \"w\")"
      ]
    },
    {
      "cell_type": "code",
      "source": [
        "reading = open(\"py.txt\", \"r\")\n",
        "print(reading.read())"
      ],
      "metadata": {
        "colab": {
          "base_uri": "https://localhost:8080/"
        },
        "id": "Ky5WM-Mk6cB_",
        "outputId": "090e2f23-78eb-47ac-c748-83aae0d3d61f"
      },
      "execution_count": null,
      "outputs": [
        {
          "output_type": "stream",
          "name": "stdout",
          "text": [
            "various file handling methods in it such as-\n",
            "'x' open for exclusive creation, failing if the file already exists (Python 3)\n",
            "'a' Opens a file for appending. The file pointer is at the end of the file if the file exists. That is, the file is in the append mode. If the file does not exist, it creates a new file for writing.\n",
            "'r' for reading – The file pointer is placed at the beginning of the file. This is the default mode.\n",
            "'w' Opens a file for writing only. Overwrites the file if the file exists. If the file does not exist, creates a new file for writing.\n",
            "'r+' Opens a file for both reading and writing. The file pointer will be at the beginning of the file.\n",
            "'w+'  Opens a file for both writing and reading. Overwrites the existing file if the file exists. If the file does not exist, it creates a new file for reading and writing.\n",
            "'a+' Opens a file for both appending and reading. The file pointer is at the end of the file if the file exists. The file opens in the append mode. If the file does not exist, it creates a new file for reading and writing.\n",
            "'rb' Opens a file for reading only in binary format. The file pointer is placed at the beginning of the file.\n",
            "'rb+' Opens a file for reading only in binary format. The file pointer is placed at the beginning of the file.2\n",
            "'wb'   Opens a file to write in binary mode\n",
            "'wb+' Opens a file for both writing and reading in binary format. Overwrites the existing file if the file exists. If the file does not exist, it creates a new file for reading and writing.\n",
            "'ab'Opens a file for appending in binary format. The file pointer is at the end of the file if the file exists. That is, the file is in the append mode. If the file does not exist, it creates a new file for writing.\n",
            "'ab+'  Opens a file for both appending and reading in binary format. The file pointer is at the end of the file if the file exists. The file opens in the append mode. If the file does not exist, it creates a new file for reading and writing.\n"
          ]
        }
      ]
    },
    {
      "cell_type": "code",
      "source": [
        "apd = open(\"py.txt\", \"a\")\n",
        "apd.write(\"\\nthis is a useless line created for the demonstation of append 'a' mode of file handling \")\n"
      ],
      "metadata": {
        "colab": {
          "base_uri": "https://localhost:8080/"
        },
        "id": "lJllQXy-_xAP",
        "outputId": "dba624aa-0c46-4591-9320-6a079ea830ee"
      },
      "execution_count": null,
      "outputs": [
        {
          "output_type": "execute_result",
          "data": {
            "text/plain": [
              "89"
            ]
          },
          "metadata": {},
          "execution_count": 12
        }
      ]
    },
    {
      "cell_type": "code",
      "source": [
        "reading1 = open(\"py.txt\",\"r+\") \n",
        "print(reading1.read())\n",
        "reading1.write(\"\\n hello this is r+ mode file handling method to both read and write on the file\")\n",
        "print(reading1.read())"
      ],
      "metadata": {
        "colab": {
          "base_uri": "https://localhost:8080/"
        },
        "id": "AV8TAbCKSva_",
        "outputId": "52129dd6-46b7-491a-8082-eb3058cddb11"
      },
      "execution_count": null,
      "outputs": [
        {
          "output_type": "stream",
          "name": "stdout",
          "text": [
            "various file handling methods in it such as-\n",
            "'x' open for exclusive creation, failing if the file already exists (Python 3)\n",
            "'a' Opens a file for appending. The file pointer is at the end of the file if the file exists. That is, the file is in the append mode. If the file does not exist, it creates a new file for writing.\n",
            "'r' for reading – The file pointer is placed at the beginning of the file. This is the default mode.\n",
            "'w' Opens a file for writing only. Overwrites the file if the file exists. If the file does not exist, creates a new file for writing.\n",
            "'r+' Opens a file for both reading and writing. The file pointer will be at the beginning of the file.\n",
            "'w+'  Opens a file for both writing and reading. Overwrites the existing file if the file exists. If the file does not exist, it creates a new file for reading and writing.\n",
            "'a+' Opens a file for both appending and reading. The file pointer is at the end of the file if the file exists. The file opens in the append mode. If the file does not exist, it creates a new file for reading and writing.\n",
            "'rb' Opens a file for reading only in binary format. The file pointer is placed at the beginning of the file.\n",
            "'rb+' Opens a file for reading only in binary format. The file pointer is placed at the beginning of the file.2\n",
            "'wb'   Opens a file to write in binary mode\n",
            "'wb+' Opens a file for both writing and reading in binary format. Overwrites the existing file if the file exists. If the file does not exist, it creates a new file for reading and writing.\n",
            "'ab'Opens a file for appending in binary format. The file pointer is at the end of the file if the file exists. That is, the file is in the append mode. If the file does not exist, it creates a new file for writing.\n",
            "'ab+'  Opens a file for both appending and reading in binary format. The file pointer is at the end of the file if the file exists. The file opens in the append mode. If the file does not exist, it creates a new file for reading and writing.\n",
            "this is a useless line created for the demonstation of append 'a' mode of file handling \n",
            "\n"
          ]
        }
      ]
    },
    {
      "cell_type": "code",
      "source": [
        "#creating file that exist do not exists , if it exists it will throw error \n",
        "a = open(\"python.txt\", \"x\")"
      ],
      "metadata": {
        "id": "tfow-Rm_URXu"
      },
      "execution_count": null,
      "outputs": []
    },
    {
      "cell_type": "code",
      "source": [
        "import pickle\n",
        "file=open(\"binaryfile.dat\",\"wb\")\n",
        "data={\"name\":\"Love jain\", \"Age\":20,\"City\":\"mumbai\"}\n",
        "pickle.dump(data,file)\n",
        "file.close()\n"
      ],
      "metadata": {
        "id": "4hOfhb4bUcat"
      },
      "execution_count": null,
      "outputs": []
    },
    {
      "cell_type": "code",
      "source": [
        "file=open(\"binaryfile.dat\",\"rb\")\n",
        "output=pickle.load(file)\n",
        "print(output)\n",
        "file.close()"
      ],
      "metadata": {
        "colab": {
          "base_uri": "https://localhost:8080/"
        },
        "id": "m6RleV91ZWg_",
        "outputId": "e6261873-e111-47ce-d3dd-b3e45d583a47"
      },
      "execution_count": null,
      "outputs": [
        {
          "output_type": "stream",
          "name": "stdout",
          "text": [
            "{'name': 'Love jain', 'Age': 20, 'City': 'mumbai'}\n"
          ]
        }
      ]
    },
    {
      "cell_type": "code",
      "source": [],
      "metadata": {
        "id": "iwkzy2TAR_3D"
      },
      "execution_count": null,
      "outputs": []
    },
    {
      "cell_type": "code",
      "source": [
        "file=open(\"binaryfile.dat\",\"ab\")\n",
        "data2={\"state\":\"maharastra\"}\n",
        "pickle.dump(data2,file)\n",
        "file.close()"
      ],
      "metadata": {
        "id": "vukTKd7yZxB-"
      },
      "execution_count": null,
      "outputs": []
    },
    {
      "cell_type": "code",
      "source": [
        "file=open(\"binaryfile.dat\",\"rb\")\n",
        "output2=pickle.load(file)\n",
        "output3=pickle.load(file)\n",
        "print(output2)\n",
        "print(output3)\n",
        "file.close()"
      ],
      "metadata": {
        "colab": {
          "base_uri": "https://localhost:8080/"
        },
        "id": "mkVeOA3Nco2F",
        "outputId": "40dfcec5-446f-4f99-94e0-672a500b5f80"
      },
      "execution_count": null,
      "outputs": [
        {
          "output_type": "stream",
          "name": "stdout",
          "text": [
            "{'name': 'Love jain', 'Age': 20, 'City': 'mumbai'}\n",
            "{'state': 'maharastra'}\n"
          ]
        }
      ]
    },
    {
      "cell_type": "code",
      "source": [
        "with open(\"py.txt\",\"a+\") as file1 :\n",
        "  file1.write(\"\\n using 'with()' function \")\n",
        "file1.close()"
      ],
      "metadata": {
        "id": "PIovk90kUnLK"
      },
      "execution_count": null,
      "outputs": []
    },
    {
      "cell_type": "code",
      "source": [
        "with open(\"py.txt\",\"r\") as file1 :\n",
        "  for i in file1:\n",
        "   print(file1.read())\n",
        "file1.close()"
      ],
      "metadata": {
        "colab": {
          "base_uri": "https://localhost:8080/"
        },
        "id": "T_9k5Ll6cNB-",
        "outputId": "6ab336af-344f-46d0-dd20-0e93b019017f"
      },
      "execution_count": null,
      "outputs": [
        {
          "output_type": "stream",
          "name": "stdout",
          "text": [
            "'x' open for exclusive creation, failing if the file already exists (Python 3)\n",
            "'a' Opens a file for appending. The file pointer is at the end of the file if the file exists. That is, the file is in the append mode. If the file does not exist, it creates a new file for writing.\n",
            "'r' for reading – The file pointer is placed at the beginning of the file. This is the default mode.\n",
            "'w' Opens a file for writing only. Overwrites the file if the file exists. If the file does not exist, creates a new file for writing.\n",
            "'r+' Opens a file for both reading and writing. The file pointer will be at the beginning of the file.\n",
            "'w+'  Opens a file for both writing and reading. Overwrites the existing file if the file exists. If the file does not exist, it creates a new file for reading and writing.\n",
            "'a+' Opens a file for both appending and reading. The file pointer is at the end of the file if the file exists. The file opens in the append mode. If the file does not exist, it creates a new file for reading and writing.\n",
            "'rb' Opens a file for reading only in binary format. The file pointer is placed at the beginning of the file.\n",
            "'rb+' Opens a file for reading only in binary format. The file pointer is placed at the beginning of the file.2\n",
            "'wb'   Opens a file to write in binary mode\n",
            "'wb+' Opens a file for both writing and reading in binary format. Overwrites the existing file if the file exists. If the file does not exist, it creates a new file for reading and writing.\n",
            "'ab'Opens a file for appending in binary format. The file pointer is at the end of the file if the file exists. That is, the file is in the append mode. If the file does not exist, it creates a new file for writing.\n",
            "'ab+'  Opens a file for both appending and reading in binary format. The file pointer is at the end of the file if the file exists. The file opens in the append mode. If the file does not exist, it creates a new file for reading and writing.\n",
            " using 'with()' function \n"
          ]
        }
      ]
    },
    {
      "cell_type": "code",
      "source": [
        "with open(\"py.txt\",\"r\") as file2 :\n",
        "  lines= file2.readlines()\n",
        "  for j in lines:\n",
        "   words += j.split()\n",
        "print(words)\n",
        "file2.close()"
      ],
      "metadata": {
        "colab": {
          "base_uri": "https://localhost:8080/"
        },
        "id": "wE51ovI2hg3h",
        "outputId": "38a9e805-6274-4449-f795-a34bede45314"
      },
      "execution_count": null,
      "outputs": [
        {
          "output_type": "stream",
          "name": "stdout",
          "text": [
            "['using', \"'with()'\", 'function', 'various', 'file', 'handling', 'methods', 'in', 'it', 'such', 'as-', \"'x'\", 'open', 'for', 'exclusive', 'creation,', 'failing', 'if', 'the', 'file', 'already', 'exists', '(Python', '3)', \"'a'\", 'Opens', 'a', 'file', 'for', 'appending.', 'The', 'file', 'pointer', 'is', 'at', 'the', 'end', 'of', 'the', 'file', 'if', 'the', 'file', 'exists.', 'That', 'is,', 'the', 'file', 'is', 'in', 'the', 'append', 'mode.', 'If', 'the', 'file', 'does', 'not', 'exist,', 'it', 'creates', 'a', 'new', 'file', 'for', 'writing.', \"'r'\", 'for', 'reading', '–', 'The', 'file', 'pointer', 'is', 'placed', 'at', 'the', 'beginning', 'of', 'the', 'file.', 'This', 'is', 'the', 'default', 'mode.', \"'w'\", 'Opens', 'a', 'file', 'for', 'writing', 'only.', 'Overwrites', 'the', 'file', 'if', 'the', 'file', 'exists.', 'If', 'the', 'file', 'does', 'not', 'exist,', 'creates', 'a', 'new', 'file', 'for', 'writing.', \"'r+'\", 'Opens', 'a', 'file', 'for', 'both', 'reading', 'and', 'writing.', 'The', 'file', 'pointer', 'will', 'be', 'at', 'the', 'beginning', 'of', 'the', 'file.', \"'w+'\", 'Opens', 'a', 'file', 'for', 'both', 'writing', 'and', 'reading.', 'Overwrites', 'the', 'existing', 'file', 'if', 'the', 'file', 'exists.', 'If', 'the', 'file', 'does', 'not', 'exist,', 'it', 'creates', 'a', 'new', 'file', 'for', 'reading', 'and', 'writing.', \"'a+'\", 'Opens', 'a', 'file', 'for', 'both', 'appending', 'and', 'reading.', 'The', 'file', 'pointer', 'is', 'at', 'the', 'end', 'of', 'the', 'file', 'if', 'the', 'file', 'exists.', 'The', 'file', 'opens', 'in', 'the', 'append', 'mode.', 'If', 'the', 'file', 'does', 'not', 'exist,', 'it', 'creates', 'a', 'new', 'file', 'for', 'reading', 'and', 'writing.', \"'rb'\", 'Opens', 'a', 'file', 'for', 'reading', 'only', 'in', 'binary', 'format.', 'The', 'file', 'pointer', 'is', 'placed', 'at', 'the', 'beginning', 'of', 'the', 'file.', \"'rb+'\", 'Opens', 'a', 'file', 'for', 'reading', 'only', 'in', 'binary', 'format.', 'The', 'file', 'pointer', 'is', 'placed', 'at', 'the', 'beginning', 'of', 'the', 'file.2', \"'wb'\", 'Opens', 'a', 'file', 'to', 'write', 'in', 'binary', 'mode', \"'wb+'\", 'Opens', 'a', 'file', 'for', 'both', 'writing', 'and', 'reading', 'in', 'binary', 'format.', 'Overwrites', 'the', 'existing', 'file', 'if', 'the', 'file', 'exists.', 'If', 'the', 'file', 'does', 'not', 'exist,', 'it', 'creates', 'a', 'new', 'file', 'for', 'reading', 'and', 'writing.', \"'ab'Opens\", 'a', 'file', 'for', 'appending', 'in', 'binary', 'format.', 'The', 'file', 'pointer', 'is', 'at', 'the', 'end', 'of', 'the', 'file', 'if', 'the', 'file', 'exists.', 'That', 'is,', 'the', 'file', 'is', 'in', 'the', 'append', 'mode.', 'If', 'the', 'file', 'does', 'not', 'exist,', 'it', 'creates', 'a', 'new', 'file', 'for', 'writing.', \"'ab+'\", 'Opens', 'a', 'file', 'for', 'both', 'appending', 'and', 'reading', 'in', 'binary', 'format.', 'The', 'file', 'pointer', 'is', 'at', 'the', 'end', 'of', 'the', 'file', 'if', 'the', 'file', 'exists.', 'The', 'file', 'opens', 'in', 'the', 'append', 'mode.', 'If', 'the', 'file', 'does', 'not', 'exist,', 'it', 'creates', 'a', 'new', 'file', 'for', 'reading', 'and', 'writing.', 'using', \"'with()'\", 'function', 'various', 'file', 'handling', 'methods', 'in', 'it', 'such', 'as-', \"'x'\", 'open', 'for', 'exclusive', 'creation,', 'failing', 'if', 'the', 'file', 'already', 'exists', '(Python', '3)', \"'a'\", 'Opens', 'a', 'file', 'for', 'appending.', 'The', 'file', 'pointer', 'is', 'at', 'the', 'end', 'of', 'the', 'file', 'if', 'the', 'file', 'exists.', 'That', 'is,', 'the', 'file', 'is', 'in', 'the', 'append', 'mode.', 'If', 'the', 'file', 'does', 'not', 'exist,', 'it', 'creates', 'a', 'new', 'file', 'for', 'writing.', \"'r'\", 'for', 'reading', '–', 'The', 'file', 'pointer', 'is', 'placed', 'at', 'the', 'beginning', 'of', 'the', 'file.', 'This', 'is', 'the', 'default', 'mode.', \"'w'\", 'Opens', 'a', 'file', 'for', 'writing', 'only.', 'Overwrites', 'the', 'file', 'if', 'the', 'file', 'exists.', 'If', 'the', 'file', 'does', 'not', 'exist,', 'creates', 'a', 'new', 'file', 'for', 'writing.', \"'r+'\", 'Opens', 'a', 'file', 'for', 'both', 'reading', 'and', 'writing.', 'The', 'file', 'pointer', 'will', 'be', 'at', 'the', 'beginning', 'of', 'the', 'file.', \"'w+'\", 'Opens', 'a', 'file', 'for', 'both', 'writing', 'and', 'reading.', 'Overwrites', 'the', 'existing', 'file', 'if', 'the', 'file', 'exists.', 'If', 'the', 'file', 'does', 'not', 'exist,', 'it', 'creates', 'a', 'new', 'file', 'for', 'reading', 'and', 'writing.', \"'a+'\", 'Opens', 'a', 'file', 'for', 'both', 'appending', 'and', 'reading.', 'The', 'file', 'pointer', 'is', 'at', 'the', 'end', 'of', 'the', 'file', 'if', 'the', 'file', 'exists.', 'The', 'file', 'opens', 'in', 'the', 'append', 'mode.', 'If', 'the', 'file', 'does', 'not', 'exist,', 'it', 'creates', 'a', 'new', 'file', 'for', 'reading', 'and', 'writing.', \"'rb'\", 'Opens', 'a', 'file', 'for', 'reading', 'only', 'in', 'binary', 'format.', 'The', 'file', 'pointer', 'is', 'placed', 'at', 'the', 'beginning', 'of', 'the', 'file.', \"'rb+'\", 'Opens', 'a', 'file', 'for', 'reading', 'only', 'in', 'binary', 'format.', 'The', 'file', 'pointer', 'is', 'placed', 'at', 'the', 'beginning', 'of', 'the', 'file.2', \"'wb'\", 'Opens', 'a', 'file', 'to', 'write', 'in', 'binary', 'mode', \"'wb+'\", 'Opens', 'a', 'file', 'for', 'both', 'writing', 'and', 'reading', 'in', 'binary', 'format.', 'Overwrites', 'the', 'existing', 'file', 'if', 'the', 'file', 'exists.', 'If', 'the', 'file', 'does', 'not', 'exist,', 'it', 'creates', 'a', 'new', 'file', 'for', 'reading', 'and', 'writing.', \"'ab'Opens\", 'a', 'file', 'for', 'appending', 'in', 'binary', 'format.', 'The', 'file', 'pointer', 'is', 'at', 'the', 'end', 'of', 'the', 'file', 'if', 'the', 'file', 'exists.', 'That', 'is,', 'the', 'file', 'is', 'in', 'the', 'append', 'mode.', 'If', 'the', 'file', 'does', 'not', 'exist,', 'it', 'creates', 'a', 'new', 'file', 'for', 'writing.', \"'ab+'\", 'Opens', 'a', 'file', 'for', 'both', 'appending', 'and', 'reading', 'in', 'binary', 'format.', 'The', 'file', 'pointer', 'is', 'at', 'the', 'end', 'of', 'the', 'file', 'if', 'the', 'file', 'exists.', 'The', 'file', 'opens', 'in', 'the', 'append', 'mode.', 'If', 'the', 'file', 'does', 'not', 'exist,', 'it', 'creates', 'a', 'new', 'file', 'for', 'reading', 'and', 'writing.', 'using', \"'with()'\", 'function', 'various', 'file', 'handling', 'methods', 'in', 'it', 'such', 'as-', \"'x'\", 'open', 'for', 'exclusive', 'creation,', 'failing', 'if', 'the', 'file', 'already', 'exists', '(Python', '3)', \"'a'\", 'Opens', 'a', 'file', 'for', 'appending.', 'The', 'file', 'pointer', 'is', 'at', 'the', 'end', 'of', 'the', 'file', 'if', 'the', 'file', 'exists.', 'That', 'is,', 'the', 'file', 'is', 'in', 'the', 'append', 'mode.', 'If', 'the', 'file', 'does', 'not', 'exist,', 'it', 'creates', 'a', 'new', 'file', 'for', 'writing.', \"'r'\", 'for', 'reading', '–', 'The', 'file', 'pointer', 'is', 'placed', 'at', 'the', 'beginning', 'of', 'the', 'file.', 'This', 'is', 'the', 'default', 'mode.', \"'w'\", 'Opens', 'a', 'file', 'for', 'writing', 'only.', 'Overwrites', 'the', 'file', 'if', 'the', 'file', 'exists.', 'If', 'the', 'file', 'does', 'not', 'exist,', 'creates', 'a', 'new', 'file', 'for', 'writing.', \"'r+'\", 'Opens', 'a', 'file', 'for', 'both', 'reading', 'and', 'writing.', 'The', 'file', 'pointer', 'will', 'be', 'at', 'the', 'beginning', 'of', 'the', 'file.', \"'w+'\", 'Opens', 'a', 'file', 'for', 'both', 'writing', 'and', 'reading.', 'Overwrites', 'the', 'existing', 'file', 'if', 'the', 'file', 'exists.', 'If', 'the', 'file', 'does', 'not', 'exist,', 'it', 'creates', 'a', 'new', 'file', 'for', 'reading', 'and', 'writing.', \"'a+'\", 'Opens', 'a', 'file', 'for', 'both', 'appending', 'and', 'reading.', 'The', 'file', 'pointer', 'is', 'at', 'the', 'end', 'of', 'the', 'file', 'if', 'the', 'file', 'exists.', 'The', 'file', 'opens', 'in', 'the', 'append', 'mode.', 'If', 'the', 'file', 'does', 'not', 'exist,', 'it', 'creates', 'a', 'new', 'file', 'for', 'reading', 'and', 'writing.', \"'rb'\", 'Opens', 'a', 'file', 'for', 'reading', 'only', 'in', 'binary', 'format.', 'The', 'file', 'pointer', 'is', 'placed', 'at', 'the', 'beginning', 'of', 'the', 'file.', \"'rb+'\", 'Opens', 'a', 'file', 'for', 'reading', 'only', 'in', 'binary', 'format.', 'The', 'file', 'pointer', 'is', 'placed', 'at', 'the', 'beginning', 'of', 'the', 'file.2', \"'wb'\", 'Opens', 'a', 'file', 'to', 'write', 'in', 'binary', 'mode', \"'wb+'\", 'Opens', 'a', 'file', 'for', 'both', 'writing', 'and', 'reading', 'in', 'binary', 'format.', 'Overwrites', 'the', 'existing', 'file', 'if', 'the', 'file', 'exists.', 'If', 'the', 'file', 'does', 'not', 'exist,', 'it', 'creates', 'a', 'new', 'file', 'for', 'reading', 'and', 'writing.', \"'ab'Opens\", 'a', 'file', 'for', 'appending', 'in', 'binary', 'format.', 'The', 'file', 'pointer', 'is', 'at', 'the', 'end', 'of', 'the', 'file', 'if', 'the', 'file', 'exists.', 'That', 'is,', 'the', 'file', 'is', 'in', 'the', 'append', 'mode.', 'If', 'the', 'file', 'does', 'not', 'exist,', 'it', 'creates', 'a', 'new', 'file', 'for', 'writing.', \"'ab+'\", 'Opens', 'a', 'file', 'for', 'both', 'appending', 'and', 'reading', 'in', 'binary', 'format.', 'The', 'file', 'pointer', 'is', 'at', 'the', 'end', 'of', 'the', 'file', 'if', 'the', 'file', 'exists.', 'The', 'file', 'opens', 'in', 'the', 'append', 'mode.', 'If', 'the', 'file', 'does', 'not', 'exist,', 'it', 'creates', 'a', 'new', 'file', 'for', 'reading', 'and', 'writing.', 'using', \"'with()'\", 'function']\n"
          ]
        }
      ]
    }
  ]
}